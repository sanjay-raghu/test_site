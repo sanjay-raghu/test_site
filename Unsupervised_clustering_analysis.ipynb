{
  "nbformat": 4,
  "nbformat_minor": 0,
  "metadata": {
    "colab": {
      "name": "Unsupervised_clustering_analysis.ipynb",
      "provenance": [],
      "collapsed_sections": [],
      "include_colab_link": true
    },
    "kernelspec": {
      "name": "python3",
      "display_name": "Python 3"
    },
    "accelerator": "GPU"
  },
  "cells": [
    {
      "cell_type": "markdown",
      "metadata": {
        "id": "view-in-github",
        "colab_type": "text"
      },
      "source": [
        "<a href=\"https://colab.research.google.com/github/sanjay-raghu/test_site/blob/master/Unsupervised_clustering_analysis.ipynb\" target=\"_parent\"><img src=\"https://colab.research.google.com/assets/colab-badge.svg\" alt=\"Open In Colab\"/></a>"
      ]
    },
    {
      "cell_type": "code",
      "metadata": {
        "id": "bNZK0WJuxFOX",
        "colab_type": "code",
        "outputId": "fe94e5f1-c84d-4393-f7bf-046660159b77",
        "colab": {
          "base_uri": "https://localhost:8080/",
          "height": 51
        }
      },
      "source": [
        "from google.colab import drive\n",
        "drive.mount('/content/drive/')\n",
        "\n",
        "#moving in pecan folder\n",
        "import os\n",
        "os.chdir('/content/drive/My Drive/client')\n",
        "os.listdir()"
      ],
      "execution_count": 235,
      "outputs": [
        {
          "output_type": "stream",
          "text": [
            "Drive already mounted at /content/drive/; to attempt to forcibly remount, call drive.mount(\"/content/drive/\", force_remount=True).\n"
          ],
          "name": "stdout"
        },
        {
          "output_type": "execute_result",
          "data": {
            "text/plain": [
              "['gostops']"
            ]
          },
          "metadata": {
            "tags": []
          },
          "execution_count": 235
        }
      ]
    },
    {
      "cell_type": "code",
      "metadata": {
        "id": "vYVCPFPGBh9H",
        "colab_type": "code",
        "colab": {}
      },
      "source": [
        "# # firebase setup\n",
        "# !pip install python-firebase"
      ],
      "execution_count": 0,
      "outputs": []
    },
    {
      "cell_type": "code",
      "metadata": {
        "id": "p2znaQcqDLjR",
        "colab_type": "code",
        "colab": {}
      },
      "source": [
        "# #firebase test\n",
        "# from firebase import firebase\n",
        "# db_url = 'https://data-tagging-6d24a.firebaseio.com/'\n",
        "# table = 'events' \n",
        " \n",
        "# firebase = firebase.FirebaseApplication(db_url, None)\n",
        "# data =  { 'time': datetime.datetime.now(),\n",
        "#           'events_type': 'noise',\n",
        "#           'transition_duration' : 5,\n",
        "#          'another_thing': 'something'\n",
        "#           }\n",
        "# result = firebase.post(f'/python-example-f6d0b/{table}/',data)\n",
        "# print(result)"
      ],
      "execution_count": 0,
      "outputs": []
    },
    {
      "cell_type": "code",
      "metadata": {
        "id": "AePfmobtwkNv",
        "colab_type": "code",
        "outputId": "73103d52-3cc0-4b1b-b311-1065fa0a2b70",
        "colab": {
          "base_uri": "https://localhost:8080/",
          "height": 34
        }
      },
      "source": [
        "# tunydb installtion\n",
        "!pip install tinydb\n"
      ],
      "execution_count": 238,
      "outputs": [
        {
          "output_type": "stream",
          "text": [
            "Requirement already satisfied: tinydb in /usr/local/lib/python3.6/dist-packages (3.15.2)\n"
          ],
          "name": "stdout"
        }
      ]
    },
    {
      "cell_type": "code",
      "metadata": {
        "id": "aihzjzNXWlfx",
        "colab_type": "code",
        "colab": {}
      },
      "source": [
        "import pandas as pd\n",
        "import numpy as np\n",
        "import datetime\n",
        "import glob\n",
        "from dateutil.parser import parser\n",
        "import os"
      ],
      "execution_count": 0,
      "outputs": []
    },
    {
      "cell_type": "code",
      "metadata": {
        "id": "UkHUXAEQ63Y5",
        "colab_type": "code",
        "colab": {}
      },
      "source": [
        "import numpy as np\n",
        "def ignore_close_events(events, delta = '1s'):\n",
        "  new_arr = []\n",
        "  for e1, e2 in zip(events[-1::-1],events[-2::-1]):\n",
        "    # print(e2, e1)\n",
        "    if abs(pd.Timestamp(e2) - pd.Timestamp(e1)) > pd.Timedelta(delta):\n",
        "      new_arr.append(e1)\n",
        "  new_arr.append(events[0])\n",
        "  print('previous total events:', len(events))\n",
        "  print('new total events:', len(new_arr))\n",
        "  print(f'{(len(events) - len(new_arr))*100/len(events)} percent events ignored')\n",
        "  return np.array(new_arr)"
      ],
      "execution_count": 0,
      "outputs": []
    },
    {
      "cell_type": "code",
      "metadata": {
        "id": "4fH1purFs5Cx",
        "colab_type": "code",
        "colab": {}
      },
      "source": [
        "import pandas as pd\n",
        "import matplotlib.pyplot as plt\n",
        "from IPython.display import clear_output, display\n",
        "from datetime import datetime, timedelta\n",
        "def get_features():\n",
        "  pass\n",
        "\n",
        "def look_around(df, event, before = '1m', after ='1m'):\n",
        "  return df[(df.index > pd.Timestamp(event,tz = 'UTC')-pd.Timedelta(before)) & (df.index < pd.Timestamp(event,tz = 'UTC') + pd.Timedelta(after))]\n",
        "\n",
        "def plot_df(df, event):\n",
        "    ax = df.plot(figsize = (12, 8))\n",
        "    ax.axvline(x=pd.Timestamp(event), **{'ls' : '--', 'lw' : .4, 'c' : 'r'})\n",
        "    ax.axvline(x=pd.Timestamp(event) + pd.Timedelta('1s'), **{'ls' : '--', 'lw' : .4, 'c' : 'r'})\n",
        "    ax.axvline(x=pd.Timestamp(event) - pd.Timedelta('1s'), **{'ls' : '--', 'lw' : .4, 'c' : 'r'})\n",
        "    ax.axvline(x=pd.Timestamp(event) + pd.Timedelta('5s'), **{'ls' : '--', 'lw' : .4, 'c' : 'r'})\n",
        "    ax.axvline(x=pd.Timestamp(event) - pd.Timedelta('5s'), **{'ls' : '--', 'lw' : .4, 'c' : 'r'})\n",
        "    ax.axvline(x=pd.Timestamp(event) + pd.Timedelta('10s'), **{'ls' : '--', 'lw' : .4, 'c' : 'r'})\n",
        "    ax.axvline(x=pd.Timestamp(event) - pd.Timedelta('10s'), **{'ls' : '--', 'lw' : .4, 'c' : 'r'})\n",
        "\n",
        "def add_new_state_change(app, db ):\n",
        "    docs = db.all()\n",
        "    # print(docs)\n",
        "    l = len(docs)\n",
        "    print('new_id', l)\n",
        "    app['ids'] = l\n",
        "    db.insert(app)\n",
        "    docs = db.all()\n",
        "    print(docs)\n",
        "    l = len(docs)\n",
        "    print(l)\n",
        "def get_appliance_list(db):\n",
        "    try:\n",
        "        doc = db.all()[0]\n",
        "    except Exception as e:\n",
        "        doc = []\n",
        "    return doc['list']\n",
        "    \n",
        "\n",
        "\n",
        "def get_new_event(time = \"\", event_type = \"\", app_name = \"\", before_state = \"\", after_state=\"\", transient_duration = None, signature = {}, multi_event = False, multi_event_location = []):\n",
        "    event = {\n",
        "        'time': time,\n",
        "        'event_type' : event_type,\n",
        "        'appliance_name': app_name,\n",
        "        'before_state': before_state,\n",
        "        'after_state':after_state,\n",
        "        'transient_duration': transient_duration,\n",
        "        'signature':signature,\n",
        "        'multi_event' : multi_event,\n",
        "        'multi_event_location': multi_event_location\n",
        "    }\n",
        "    print(event)\n",
        "    return event\n",
        "def get_new_state_change(app_name = \"\", event_type = \"\", before_state = \"\", after_state = \"\", signature = {}, deltap = \"\"):\n",
        "    state_change = {\n",
        "        'appliance_name': app_name,\n",
        "        'event_type': event_type,\n",
        "        'before_state': before_state,\n",
        "        'after_state':after_state,\n",
        "        'signature':signature,\n",
        "        'deltap':deltap\n",
        "    }\n",
        "    print(state_change)\n",
        "    return state_change\n",
        "  \n",
        "def prompt_known_events(db):\n",
        "    docs = db.all()\n",
        "    for doc in docs:\n",
        "        print(doc)\n",
        "\n",
        "\n",
        "def generate_grafana_link(time, meter_id = 'm190601057'):\n",
        "    t1 = (int(time.strftime(\"%s\")) - 3600) * 1000\n",
        "    t2 = (int(time.strftime(\"%s\")) + 3600) * 1000\n",
        "    url = f\"https://devdashboard.avrio.energy/d/kjnasdus/anymeter?orgId=1&var-Meter_ID={meter_id}&from={t1}&to={t2}\"\n",
        "    print(url)\n",
        "from IPython.display import display\n",
        "def plot_known_appliances(db):\n",
        "    docs = db.all()\n",
        "    n = len(docs)\n",
        "    if n == 0:\n",
        "        print('empty database')\n",
        "    else:\n",
        "        df = pd.DataFrame(docs)\n",
        "        display(df.drop(columns=['signature']))\n",
        "\n",
        "def analyse_chunk(data, filtered_events, events_db, appliance_db):\n",
        "    for index, row in filtered_events.iterrows():\n",
        "        event = index\n",
        "        \n",
        "        print(f'{str(event)}')\n",
        "        print(f'event_name {row[\"event_name\"]}')\n",
        "        \n",
        "        q = Query()\n",
        "        r = events_db.search(q.time == str(event))\n",
        "        # print(r)\n",
        "        # break\n",
        "        if r:\n",
        "            print('event already tagged')\n",
        "            continue\n",
        "        generate_grafana_link(event)\n",
        "        df = look_around(data[['mains:active_power', 'mains:reactive_power']], event, before = '30s', after = '30s')\n",
        "        plot_df(df/100, event)\n",
        "        plt.show()\n",
        "        signature = df.reset_index()\n",
        "        signature['index'] = signature['index'].astype(str) \n",
        "        signature = signature.set_index('index',)\n",
        "        # print(signature)\n",
        "        # print(signature.to_dict())\n",
        "        event_type = input('event type ? (noise/n, up/u, down/d)')\n",
        "        if event_type == 'noise' or event_type == 'n':\n",
        "            d = get_new_event(time = str(event), event_type = \"noise\", transient_duration = None, signature = signature.to_dict(), multi_event = False, multi_event_location = [])\n",
        "            print(f\"adding to noise events\")\n",
        "            events_db.insert(d)\n",
        "\n",
        "        elif event_type == 'up' or event_type == 'u':\n",
        "            plot_known_appliances(appliance_db)\n",
        "            new_event = input(f'new event ?(y/n)')\n",
        "            if new_event == 'y':\n",
        "                app_name = input('name of the appliance?')\n",
        "                before_state = input('before state?')\n",
        "                after_state = input('after state?')\n",
        "                transient_duration = input('transient duration?')\n",
        "                multi_event = int(input('how many extra events in transient duration(integer)?'))\n",
        "                multi_event_location = []\n",
        "                deltap = input('delta Powers (P, Q)?')\n",
        "                for i in range(multi_event):\n",
        "                    location = input(f\"locations extras event number {i}?\")\n",
        "                    multi_event_location.append(location)\n",
        "                add_new_state_change(s, appliance_db)\n",
        "            elif new_event == 'n':\n",
        "                select_id = input('select id from known appliance')\n",
        "                select_id = int(select_id)\n",
        "                q = Query()\n",
        "                query_res = appliance_db.search(q.ids == select_id)[0]\n",
        "\n",
        "                app_name = query_res['appliance_name']\n",
        "                before_state = query_res['before_state']\n",
        "                after_state = query_res['after_state']\n",
        "                transient_duration = input('transient duration?')\n",
        "                multi_event = int(input('how many extra events in transient duration(integer)?'))\n",
        "                multi_event_location = []\n",
        "\n",
        "            \n",
        "            d = get_new_event(time = str(event), event_type = \"up\", app_name = app_name, before_state=before_state, after_state=after_state,\n",
        "                        transient_duration = transient_duration, signature = signature.to_dict(), multi_event = multi_event,\n",
        "                        multi_event_location = multi_event_location)\n",
        "            s = get_new_state_change(app_name = app_name, event_type = \"up\", before_state = before_state,\n",
        "                                after_state = after_state, signature = signature.to_dict(), deltap = deltap)\n",
        "            events_db.insert(d)\n",
        "            # appliance_db.insert(s)\n",
        "        elif event_type == 'down' or event_type == 'd':\n",
        "            plot_known_appliances(appliance_db)\n",
        "            new_event = input(f'new event ?(y/n)')\n",
        "            if new_event == 'y':\n",
        "                app_name = input('name of the appliance?')\n",
        "                before_state = input('before state?')\n",
        "                after_state = input('after state?')\n",
        "                transient_duration = input('transient duration?')\n",
        "                multi_event = int(input('how many extra events in transient duration(integer)?'))\n",
        "                multi_event_location = []\n",
        "                deltap = input('delta Powers (P, Q)?')\n",
        "                for i in range(multi_event):\n",
        "                    location = input(f\"locations extras event number {i}?\")\n",
        "                    multi_event_location.append(location)\n",
        "                add_new_state_change(s, appliance_db)\n",
        "            elif new_event == 'n':\n",
        "                select_id = input('select id from known appliance')\n",
        "                select_id = int(select_id)\n",
        "                q = Query()\n",
        "                query_res = appliance_db.search(q.ids == select_id)[0]\n",
        "\n",
        "                app_name = query_res['appliance_name']\n",
        "                before_state = query_res['before_state']\n",
        "                after_state = query_res['after_state']\n",
        "                transient_duration = input('transient duration?')\n",
        "                multi_event = int(input('how many extra events in transient duration(integer)?'))\n",
        "                multi_event_location = []\n",
        "            \n",
        "            d = get_new_event(time = str(event), event_type = \"down\", app_name = app_name, before_state=before_state, after_state=after_state,\n",
        "                        transient_duration = transient_duration, signature = signature.to_dict(), multi_event = multi_event,\n",
        "                        multi_event_location = multi_event_location)\n",
        "            s = get_new_state_change(app_name = app_name, event_type = \"down\", before_state = before_state,\n",
        "                                after_state = after_state, signature = signature.to_dict(), deltap = deltap)\n",
        "            events_db.insert(d)\n",
        "        clear_output(wait = True)\n",
        "        ops = input('what to do next?(next-1,)')\n",
        "        if ops == 'next' or ops == '1':\n",
        "            continue\n",
        "        else:\n",
        "            break"
      ],
      "execution_count": 0,
      "outputs": []
    },
    {
      "cell_type": "code",
      "metadata": {
        "id": "88KJMArT74x6",
        "colab_type": "code",
        "colab": {}
      },
      "source": [
        "def preprocess(data, t1_act = 5000):\n",
        "    # sign of data\n",
        "    pos = (data['mains:active_power'] > 0).sum()/ data.shape[0]\n",
        "    if pos >= .5:\n",
        "        sign = 1\n",
        "    else:\n",
        "        sign = -1\n",
        "    data = data*sign\n",
        "\n",
        "    # Featues Extractioon\n",
        "    data['act_diff2'] = data['mains:active_power'].diff(2).shift(-1)\n",
        "    data['act_diff4'] = data['mains:active_power'].diff(4).shift(-2)\n",
        "    data['act_diff6'] = data['mains:active_power'].diff(6).shift(-3)\n",
        "    data['act_diff8'] = data['mains:active_power'].diff(8).shift(-4)\n",
        "\n",
        "    # data['react_diff2'] = data['mains:reactive_power'].diff(2).shift(-1)\n",
        "    # data['react_diff4'] = data['mains:reactive_power'].diff(4).shift(-2)\n",
        "    # data['react_diff6'] = data['mains:reactive_power'].diff(6).shift(-3)\n",
        "    # data['react_diff8'] = data['mains:reactive_power'].diff(8).shift(-3)\n",
        "\n",
        "    act_condition1 = (data['act_diff2'] > t1_act).apply(int) + (data['act_diff4'] > t1_act).apply(int) + (data['act_diff6'] > t1_act).apply(int) + (data['act_diff8'].apply(abs) > t1_act).apply(int)\n",
        "    act_condition1 = act_condition1 >= 3  \n",
        "\n",
        "    act_condition2 = (data['act_diff2'] < -t1_act).apply(int) + (data['act_diff4'] < -t1_act).apply(int) + (data['act_diff6'] < -t1_act).apply(int) + (data['act_diff8'].apply(abs) < -t1_act).apply(int)\n",
        "    act_condition2 = act_condition2 >= 3\n",
        "\n",
        "    # react_condition1 = (data['react_diff2'] > t1_react).apply(int) + (data['react_diff4'] > t1_react).apply(int) + (data['react_diff6'] > t1_react).apply(int) + (data['react_diff8'].apply(abs) > t1_react).apply(int)\n",
        "    # react_condition1 = react_condition1 >= 3  \n",
        "\n",
        "    # react_condition2 = (data['react_diff2'] < -t1_react).apply(int) + (data['react_diff4'] < -t1_react).apply(int) + (data['react_diff6'] < -t1_react).apply(int) + (data['react_diff8'].apply(abs) < -t1_react).apply(int)\n",
        "    # react_condition2 = react_condition2 >= 3\n",
        "\n",
        "    # con1 = ((data['act_diff2'].apply(abs) > t1_act) | (data['react_diff2'].apply(abs) > t1_react))\n",
        "    # con2 = ((data['act_diff4'].apply(abs) > t1_act) | (data['react_diff4'].apply(abs) > t1_react))\n",
        "    # con3 = ((data['act_diff6'].apply(abs) > t1_act) | (data['react_diff6'].apply(abs) > t1_react))\n",
        "    # con4 = ((data['act_diff8'].apply(abs) > t1_act) | (data['react_diff8'].apply(abs) > t1_react))\n",
        "\n",
        "    # event_filter1 = (con4 & con2 & con3)\n",
        "    # event_filter2 = (con1 & con4 & con3)\n",
        "    # event_filter3 = (con1 & con2 & con4)\n",
        "    # event_filter4 = (con1 & con2 & con3)\n",
        "    on_filter = act_condition1\n",
        "    off_filter = act_condition2\n",
        "\n",
        "    # event_filter = event_filter1 | event_filter2 | event_filter3 | event_filter4\n",
        "    ##### on off events\n",
        "\n",
        "    data['events'] = 0\n",
        "    data['events'][on_filter] = 1\n",
        "    data['events'][off_filter] = -1\n",
        "    on_events = data.index[(data['events'] == 1)].values\n",
        "    off_events = data.index[(data['events'] == -1)].values\n",
        "\n",
        "    print(f\"total {len(on_events)} on events detected and {len(off_events)} off events detected\")\n",
        "\n",
        "    filtered_on = ignore_close_events(on_events)\n",
        "    filtered_off = ignore_close_events(off_events)\n",
        "    print(f\"total {len(filtered_on)} on events detected and {len(filtered_off)} off events detected\")\n",
        "\n",
        "    filtered_events = pd.DataFrame(index = pd.DatetimeIndex(np.concatenate([filtered_on, filtered_off])))\n",
        "    filtered_events.loc[pd.DatetimeIndex(filtered_on), 'event_name'] = 'up'\n",
        "    filtered_events.loc[pd.DatetimeIndex(filtered_off), 'event_name'] = 'down'\n",
        "    filtered_events = filtered_events.sort_index()\n",
        "    return filtered_events, data"
      ],
      "execution_count": 0,
      "outputs": []
    },
    {
      "cell_type": "code",
      "metadata": {
        "id": "EmCjppOXnAAw",
        "colab_type": "code",
        "outputId": "6c75553b-0231-4f8b-b5db-b20eb6cf2ece",
        "colab": {
          "base_uri": "https://localhost:8080/",
          "height": 51
        }
      },
      "source": [
        "home = '/content/drive/My Drive'\n",
        "base = 'client'\n",
        "client_name = 'gostops'\n",
        "circuit_name = 'room_205'\n",
        "tdelta = '200L'\n",
        "\n",
        "cir_dir = os.path.join(home, base,client_name, circuit_name)\n",
        "processed_dir = os.path.join(home, base,client_name, circuit_name, 'processed')\n",
        "print(cir_dir)\n",
        "print(processed_dir)"
      ],
      "execution_count": 253,
      "outputs": [
        {
          "output_type": "stream",
          "text": [
            "/content/drive/My Drive/client/gostops/room_205\n",
            "/content/drive/My Drive/client/gostops/room_205/processed\n"
          ],
          "name": "stdout"
        }
      ]
    },
    {
      "cell_type": "code",
      "metadata": {
        "id": "ekMM7eAP7iYQ",
        "colab_type": "code",
        "colab": {}
      },
      "source": [
        "# parameteres\n",
        "t1_act = 5000\n",
        "# t1_react= 2000"
      ],
      "execution_count": 0,
      "outputs": []
    },
    {
      "cell_type": "code",
      "metadata": {
        "id": "JQGmF_Y87xbO",
        "colab_type": "code",
        "colab": {}
      },
      "source": [
        "# db inint\n",
        "from tinydb import TinyDB, Query\n",
        "db_path = os.path.join(processed_dir, 'db.json')\n",
        "db = TinyDB(db_path)\n",
        "events_db = db.table('events_db')\n",
        "appliance_db = db.table('appliances')\n",
        "\n"
      ],
      "execution_count": 0,
      "outputs": []
    },
    {
      "cell_type": "code",
      "metadata": {
        "id": "LEHg1XClf1-W",
        "colab_type": "code",
        "colab": {}
      },
      "source": [
        "data_reader = pd.read_csv(os.path.join(processed_dir,'data' + tdelta +'.csv'), index_col=0, parse_dates=True, usecols = [0,1,2], chunksize = 3600*5*6 )"
      ],
      "execution_count": 0,
      "outputs": []
    },
    {
      "cell_type": "code",
      "metadata": {
        "id": "7gOofKj-gAt4",
        "colab_type": "code",
        "outputId": "1a2b77f7-0294-4ba2-fb3c-7d1865c63d78",
        "colab": {
          "base_uri": "https://localhost:8080/",
          "height": 204
        }
      },
      "source": [
        "data = data_reader.__next__()\n",
        "data.head()"
      ],
      "execution_count": 249,
      "outputs": [
        {
          "output_type": "execute_result",
          "data": {
            "text/html": [
              "<div>\n",
              "<style scoped>\n",
              "    .dataframe tbody tr th:only-of-type {\n",
              "        vertical-align: middle;\n",
              "    }\n",
              "\n",
              "    .dataframe tbody tr th {\n",
              "        vertical-align: top;\n",
              "    }\n",
              "\n",
              "    .dataframe thead th {\n",
              "        text-align: right;\n",
              "    }\n",
              "</style>\n",
              "<table border=\"1\" class=\"dataframe\">\n",
              "  <thead>\n",
              "    <tr style=\"text-align: right;\">\n",
              "      <th></th>\n",
              "      <th>mains:active_power</th>\n",
              "      <th>mains:reactive_power</th>\n",
              "    </tr>\n",
              "  </thead>\n",
              "  <tbody>\n",
              "    <tr>\n",
              "      <th>2019-11-23 02:44:38.400000+00:00</th>\n",
              "      <td>-8367.0</td>\n",
              "      <td>-1325.0</td>\n",
              "    </tr>\n",
              "    <tr>\n",
              "      <th>2019-11-23 02:44:38.600000+00:00</th>\n",
              "      <td>-7812.0</td>\n",
              "      <td>-1546.0</td>\n",
              "    </tr>\n",
              "    <tr>\n",
              "      <th>2019-11-23 02:44:38.800000+00:00</th>\n",
              "      <td>-8296.0</td>\n",
              "      <td>-1443.0</td>\n",
              "    </tr>\n",
              "    <tr>\n",
              "      <th>2019-11-23 02:44:39+00:00</th>\n",
              "      <td>-8363.0</td>\n",
              "      <td>-1325.0</td>\n",
              "    </tr>\n",
              "    <tr>\n",
              "      <th>2019-11-23 02:44:39.200000+00:00</th>\n",
              "      <td>-7804.0</td>\n",
              "      <td>-1551.0</td>\n",
              "    </tr>\n",
              "  </tbody>\n",
              "</table>\n",
              "</div>"
            ],
            "text/plain": [
              "                                  mains:active_power  mains:reactive_power\n",
              "2019-11-23 02:44:38.400000+00:00             -8367.0               -1325.0\n",
              "2019-11-23 02:44:38.600000+00:00             -7812.0               -1546.0\n",
              "2019-11-23 02:44:38.800000+00:00             -8296.0               -1443.0\n",
              "2019-11-23 02:44:39+00:00                    -8363.0               -1325.0\n",
              "2019-11-23 02:44:39.200000+00:00             -7804.0               -1551.0"
            ]
          },
          "metadata": {
            "tags": []
          },
          "execution_count": 249
        }
      ]
    },
    {
      "cell_type": "code",
      "metadata": {
        "id": "YQRIMnWZURxa",
        "colab_type": "code",
        "colab": {
          "base_uri": "https://localhost:8080/",
          "height": 289
        },
        "outputId": "851cc4f4-802d-47cf-fd70-69e2bbb5ebe8"
      },
      "source": [
        "filtered_events, df = preprocess(data,t1_act)"
      ],
      "execution_count": 254,
      "outputs": [
        {
          "output_type": "stream",
          "text": [
            "total 51 on events detected and 24 off events detected\n",
            "previous total events: 51\n",
            "new total events: 14\n",
            "72.54901960784314 percent events ignored\n",
            "previous total events: 24\n",
            "new total events: 10\n",
            "58.333333333333336 percent events ignored\n",
            "total 14 on events detected and 10 off events detected\n"
          ],
          "name": "stdout"
        },
        {
          "output_type": "stream",
          "text": [
            "/usr/local/lib/python3.6/dist-packages/ipykernel_launcher.py:49: SettingWithCopyWarning: \n",
            "A value is trying to be set on a copy of a slice from a DataFrame\n",
            "\n",
            "See the caveats in the documentation: http://pandas.pydata.org/pandas-docs/stable/user_guide/indexing.html#returning-a-view-versus-a-copy\n",
            "/usr/local/lib/python3.6/dist-packages/ipykernel_launcher.py:50: SettingWithCopyWarning: \n",
            "A value is trying to be set on a copy of a slice from a DataFrame\n",
            "\n",
            "See the caveats in the documentation: http://pandas.pydata.org/pandas-docs/stable/user_guide/indexing.html#returning-a-view-versus-a-copy\n"
          ],
          "name": "stderr"
        }
      ]
    },
    {
      "cell_type": "code",
      "metadata": {
        "id": "hsP6XFJIAbwi",
        "colab_type": "code",
        "colab": {
          "base_uri": "https://localhost:8080/",
          "height": 1000
        },
        "outputId": "b29e4cec-851b-4a30-8e86-a9ca027b4caf"
      },
      "source": [
        "analyse_chunk(df,filtered_events,events_db,appliance_db)"
      ],
      "execution_count": 255,
      "outputs": [
        {
          "output_type": "stream",
          "text": [
            "what to do next?(next-1,)1\n",
            "2019-11-23 06:39:28.400000\n",
            "event_name up\n",
            "event already tagged\n",
            "2019-11-23 06:39:34.800000\n",
            "event_name down\n",
            "event already tagged\n",
            "2019-11-23 06:39:35.600000\n",
            "event_name up\n",
            "event already tagged\n",
            "2019-11-23 06:40:16.600000\n",
            "event_name down\n",
            "event already tagged\n",
            "2019-11-23 06:42:57\n",
            "event_name up\n",
            "https://devdashboard.avrio.energy/d/kjnasdus/anymeter?orgId=1&var-Meter_ID=m190601057&from=1574487777000&to=1574494977000\n"
          ],
          "name": "stdout"
        },
        {
          "output_type": "display_data",
          "data": {
            "image/png": "[encoded data removed]",
            "text/plain": [
              "<Figure size 864x576 with 1 Axes>"
            ]
          },
          "metadata": {
            "tags": []
          }
        },
        {
          "output_type": "error",
          "ename": "KeyboardInterrupt",
          "evalue": "ignored",
          "traceback": [
            "\u001b[0;31m---------------------------------------------------------------------------\u001b[0m",
            "\u001b[0;31mKeyboardInterrupt\u001b[0m                         Traceback (most recent call last)",
            "\u001b[0;32m/usr/local/lib/python3.6/dist-packages/ipykernel/kernelbase.py\u001b[0m in \u001b[0;36m_input_request\u001b[0;34m(self, prompt, ident, parent, password)\u001b[0m\n\u001b[1;32m    729\u001b[0m             \u001b[0;32mtry\u001b[0m\u001b[0;34m:\u001b[0m\u001b[0;34m\u001b[0m\u001b[0;34m\u001b[0m\u001b[0m\n\u001b[0;32m--> 730\u001b[0;31m                 \u001b[0mident\u001b[0m\u001b[0;34m,\u001b[0m \u001b[0mreply\u001b[0m \u001b[0;34m=\u001b[0m \u001b[0mself\u001b[0m\u001b[0;34m.\u001b[0m\u001b[0msession\u001b[0m\u001b[0;34m.\u001b[0m\u001b[0mrecv\u001b[0m\u001b[0;34m(\u001b[0m\u001b[0mself\u001b[0m\u001b[0;34m.\u001b[0m\u001b[0mstdin_socket\u001b[0m\u001b[0;34m,\u001b[0m \u001b[0;36m0\u001b[0m\u001b[0;34m)\u001b[0m\u001b[0;34m\u001b[0m\u001b[0;34m\u001b[0m\u001b[0m\n\u001b[0m\u001b[1;32m    731\u001b[0m             \u001b[0;32mexcept\u001b[0m \u001b[0mException\u001b[0m\u001b[0;34m:\u001b[0m\u001b[0;34m\u001b[0m\u001b[0;34m\u001b[0m\u001b[0m\n",
            "\u001b[0;32m/usr/local/lib/python3.6/dist-packages/jupyter_client/session.py\u001b[0m in \u001b[0;36mrecv\u001b[0;34m(self, socket, mode, content, copy)\u001b[0m\n\u001b[1;32m    802\u001b[0m         \u001b[0;32mtry\u001b[0m\u001b[0;34m:\u001b[0m\u001b[0;34m\u001b[0m\u001b[0;34m\u001b[0m\u001b[0m\n\u001b[0;32m--> 803\u001b[0;31m             \u001b[0mmsg_list\u001b[0m \u001b[0;34m=\u001b[0m \u001b[0msocket\u001b[0m\u001b[0;34m.\u001b[0m\u001b[0mrecv_multipart\u001b[0m\u001b[0;34m(\u001b[0m\u001b[0mmode\u001b[0m\u001b[0;34m,\u001b[0m \u001b[0mcopy\u001b[0m\u001b[0;34m=\u001b[0m\u001b[0mcopy\u001b[0m\u001b[0;34m)\u001b[0m\u001b[0;34m\u001b[0m\u001b[0;34m\u001b[0m\u001b[0m\n\u001b[0m\u001b[1;32m    804\u001b[0m         \u001b[0;32mexcept\u001b[0m \u001b[0mzmq\u001b[0m\u001b[0;34m.\u001b[0m\u001b[0mZMQError\u001b[0m \u001b[0;32mas\u001b[0m \u001b[0me\u001b[0m\u001b[0;34m:\u001b[0m\u001b[0;34m\u001b[0m\u001b[0;34m\u001b[0m\u001b[0m\n",
            "\u001b[0;32m/usr/local/lib/python3.6/dist-packages/zmq/sugar/socket.py\u001b[0m in \u001b[0;36mrecv_multipart\u001b[0;34m(self, flags, copy, track)\u001b[0m\n\u001b[1;32m    465\u001b[0m         \"\"\"\n\u001b[0;32m--> 466\u001b[0;31m         \u001b[0mparts\u001b[0m \u001b[0;34m=\u001b[0m \u001b[0;34m[\u001b[0m\u001b[0mself\u001b[0m\u001b[0;34m.\u001b[0m\u001b[0mrecv\u001b[0m\u001b[0;34m(\u001b[0m\u001b[0mflags\u001b[0m\u001b[0;34m,\u001b[0m \u001b[0mcopy\u001b[0m\u001b[0;34m=\u001b[0m\u001b[0mcopy\u001b[0m\u001b[0;34m,\u001b[0m \u001b[0mtrack\u001b[0m\u001b[0;34m=\u001b[0m\u001b[0mtrack\u001b[0m\u001b[0;34m)\u001b[0m\u001b[0;34m]\u001b[0m\u001b[0;34m\u001b[0m\u001b[0;34m\u001b[0m\u001b[0m\n\u001b[0m\u001b[1;32m    467\u001b[0m         \u001b[0;31m# have first part already, only loop while more to receive\u001b[0m\u001b[0;34m\u001b[0m\u001b[0;34m\u001b[0m\u001b[0;34m\u001b[0m\u001b[0m\n",
            "\u001b[0;32mzmq/backend/cython/socket.pyx\u001b[0m in \u001b[0;36mzmq.backend.cython.socket.Socket.recv\u001b[0;34m()\u001b[0m\n",
            "\u001b[0;32mzmq/backend/cython/socket.pyx\u001b[0m in \u001b[0;36mzmq.backend.cython.socket.Socket.recv\u001b[0;34m()\u001b[0m\n",
            "\u001b[0;32mzmq/backend/cython/socket.pyx\u001b[0m in \u001b[0;36mzmq.backend.cython.socket._recv_copy\u001b[0;34m()\u001b[0m\n",
            "\u001b[0;32m/usr/local/lib/python3.6/dist-packages/zmq/backend/cython/checkrc.pxd\u001b[0m in \u001b[0;36mzmq.backend.cython.checkrc._check_rc\u001b[0;34m()\u001b[0m\n",
            "\u001b[0;31mKeyboardInterrupt\u001b[0m: ",
            "\nDuring handling of the above exception, another exception occurred:\n",
            "\u001b[0;31mKeyboardInterrupt\u001b[0m                         Traceback (most recent call last)",
            "\u001b[0;32m<ipython-input-255-40aa7a047b82>\u001b[0m in \u001b[0;36m<module>\u001b[0;34m()\u001b[0m\n\u001b[0;32m----> 1\u001b[0;31m \u001b[0manalyse_chunk\u001b[0m\u001b[0;34m(\u001b[0m\u001b[0mdf\u001b[0m\u001b[0;34m,\u001b[0m\u001b[0mfiltered_events\u001b[0m\u001b[0;34m,\u001b[0m\u001b[0mevents_db\u001b[0m\u001b[0;34m,\u001b[0m\u001b[0mappliance_db\u001b[0m\u001b[0;34m)\u001b[0m\u001b[0;34m\u001b[0m\u001b[0;34m\u001b[0m\u001b[0m\n\u001b[0m",
            "\u001b[0;32m<ipython-input-243-ce6e7617481a>\u001b[0m in \u001b[0;36manalyse_chunk\u001b[0;34m(data, filtered_events, events_db, appliance_db)\u001b[0m\n\u001b[1;32m    109\u001b[0m         \u001b[0;31m# print(signature)\u001b[0m\u001b[0;34m\u001b[0m\u001b[0;34m\u001b[0m\u001b[0;34m\u001b[0m\u001b[0m\n\u001b[1;32m    110\u001b[0m         \u001b[0;31m# print(signature.to_dict())\u001b[0m\u001b[0;34m\u001b[0m\u001b[0;34m\u001b[0m\u001b[0;34m\u001b[0m\u001b[0m\n\u001b[0;32m--> 111\u001b[0;31m         \u001b[0mevent_type\u001b[0m \u001b[0;34m=\u001b[0m \u001b[0minput\u001b[0m\u001b[0;34m(\u001b[0m\u001b[0;34m'event type ? (noise/n, up/u, down/d)'\u001b[0m\u001b[0;34m)\u001b[0m\u001b[0;34m\u001b[0m\u001b[0;34m\u001b[0m\u001b[0m\n\u001b[0m\u001b[1;32m    112\u001b[0m         \u001b[0;32mif\u001b[0m \u001b[0mevent_type\u001b[0m \u001b[0;34m==\u001b[0m \u001b[0;34m'noise'\u001b[0m \u001b[0;32mor\u001b[0m \u001b[0mevent_type\u001b[0m \u001b[0;34m==\u001b[0m \u001b[0;34m'n'\u001b[0m\u001b[0;34m:\u001b[0m\u001b[0;34m\u001b[0m\u001b[0;34m\u001b[0m\u001b[0m\n\u001b[1;32m    113\u001b[0m             \u001b[0md\u001b[0m \u001b[0;34m=\u001b[0m \u001b[0mget_new_event\u001b[0m\u001b[0;34m(\u001b[0m\u001b[0mtime\u001b[0m \u001b[0;34m=\u001b[0m \u001b[0mstr\u001b[0m\u001b[0;34m(\u001b[0m\u001b[0mevent\u001b[0m\u001b[0;34m)\u001b[0m\u001b[0;34m,\u001b[0m \u001b[0mevent_type\u001b[0m \u001b[0;34m=\u001b[0m \u001b[0;34m\"noise\"\u001b[0m\u001b[0;34m,\u001b[0m \u001b[0mtransient_duration\u001b[0m \u001b[0;34m=\u001b[0m \u001b[0;32mNone\u001b[0m\u001b[0;34m,\u001b[0m \u001b[0msignature\u001b[0m \u001b[0;34m=\u001b[0m \u001b[0msignature\u001b[0m\u001b[0;34m.\u001b[0m\u001b[0mto_dict\u001b[0m\u001b[0;34m(\u001b[0m\u001b[0;34m)\u001b[0m\u001b[0;34m,\u001b[0m \u001b[0mmulti_event\u001b[0m \u001b[0;34m=\u001b[0m \u001b[0;32mFalse\u001b[0m\u001b[0;34m,\u001b[0m \u001b[0mmulti_event_location\u001b[0m \u001b[0;34m=\u001b[0m \u001b[0;34m[\u001b[0m\u001b[0;34m]\u001b[0m\u001b[0;34m)\u001b[0m\u001b[0;34m\u001b[0m\u001b[0;34m\u001b[0m\u001b[0m\n",
            "\u001b[0;32m/usr/local/lib/python3.6/dist-packages/ipykernel/kernelbase.py\u001b[0m in \u001b[0;36mraw_input\u001b[0;34m(self, prompt)\u001b[0m\n\u001b[1;32m    703\u001b[0m             \u001b[0mself\u001b[0m\u001b[0;34m.\u001b[0m\u001b[0m_parent_ident\u001b[0m\u001b[0;34m,\u001b[0m\u001b[0;34m\u001b[0m\u001b[0;34m\u001b[0m\u001b[0m\n\u001b[1;32m    704\u001b[0m             \u001b[0mself\u001b[0m\u001b[0;34m.\u001b[0m\u001b[0m_parent_header\u001b[0m\u001b[0;34m,\u001b[0m\u001b[0;34m\u001b[0m\u001b[0;34m\u001b[0m\u001b[0m\n\u001b[0;32m--> 705\u001b[0;31m             \u001b[0mpassword\u001b[0m\u001b[0;34m=\u001b[0m\u001b[0;32mFalse\u001b[0m\u001b[0;34m,\u001b[0m\u001b[0;34m\u001b[0m\u001b[0;34m\u001b[0m\u001b[0m\n\u001b[0m\u001b[1;32m    706\u001b[0m         )\n\u001b[1;32m    707\u001b[0m \u001b[0;34m\u001b[0m\u001b[0m\n",
            "\u001b[0;32m/usr/local/lib/python3.6/dist-packages/ipykernel/kernelbase.py\u001b[0m in \u001b[0;36m_input_request\u001b[0;34m(self, prompt, ident, parent, password)\u001b[0m\n\u001b[1;32m    733\u001b[0m             \u001b[0;32mexcept\u001b[0m \u001b[0mKeyboardInterrupt\u001b[0m\u001b[0;34m:\u001b[0m\u001b[0;34m\u001b[0m\u001b[0;34m\u001b[0m\u001b[0m\n\u001b[1;32m    734\u001b[0m                 \u001b[0;31m# re-raise KeyboardInterrupt, to truncate traceback\u001b[0m\u001b[0;34m\u001b[0m\u001b[0;34m\u001b[0m\u001b[0;34m\u001b[0m\u001b[0m\n\u001b[0;32m--> 735\u001b[0;31m                 \u001b[0;32mraise\u001b[0m \u001b[0mKeyboardInterrupt\u001b[0m\u001b[0;34m\u001b[0m\u001b[0;34m\u001b[0m\u001b[0m\n\u001b[0m\u001b[1;32m    736\u001b[0m             \u001b[0;32melse\u001b[0m\u001b[0;34m:\u001b[0m\u001b[0;34m\u001b[0m\u001b[0;34m\u001b[0m\u001b[0m\n\u001b[1;32m    737\u001b[0m                 \u001b[0;32mbreak\u001b[0m\u001b[0;34m\u001b[0m\u001b[0;34m\u001b[0m\u001b[0m\n",
            "\u001b[0;31mKeyboardInterrupt\u001b[0m: "
          ]
        }
      ]
    },
    {
      "cell_type": "code",
      "metadata": {
        "id": "VYkOWCOmak-d",
        "colab_type": "code",
        "colab": {}
      },
      "source": [
        ""
      ],
      "execution_count": 0,
      "outputs": []
    },
    {
      "cell_type": "code",
      "metadata": {
        "id": "al-EPsFcdg30",
        "colab_type": "code",
        "outputId": "29b9e0fa-b4db-4959-b5c6-e5f6c33cdf8e",
        "colab": {
          "base_uri": "https://localhost:8080/",
          "height": 204
        }
      },
      "source": [
        ""
      ],
      "execution_count": 219,
      "outputs": [
        {
          "output_type": "stream",
          "text": [
            "total 25 on events detected and 14 off events detected\n"
          ],
          "name": "stdout"
        },
        {
          "output_type": "stream",
          "text": [
            "/usr/local/lib/python3.6/dist-packages/ipykernel_launcher.py:2: SettingWithCopyWarning: \n",
            "A value is trying to be set on a copy of a slice from a DataFrame\n",
            "\n",
            "See the caveats in the documentation: http://pandas.pydata.org/pandas-docs/stable/user_guide/indexing.html#returning-a-view-versus-a-copy\n",
            "  \n",
            "/usr/local/lib/python3.6/dist-packages/ipykernel_launcher.py:3: SettingWithCopyWarning: \n",
            "A value is trying to be set on a copy of a slice from a DataFrame\n",
            "\n",
            "See the caveats in the documentation: http://pandas.pydata.org/pandas-docs/stable/user_guide/indexing.html#returning-a-view-versus-a-copy\n",
            "  This is separate from the ipykernel package so we can avoid doing imports until\n"
          ],
          "name": "stderr"
        }
      ]
    },
    {
      "cell_type": "code",
      "metadata": {
        "id": "gFPB-vHHaGDm",
        "colab_type": "code",
        "outputId": "830ee679-f7d4-486a-a7bd-7d56abfc8014",
        "colab": {
          "base_uri": "https://localhost:8080/",
          "height": 136
        }
      },
      "source": [
        ""
      ],
      "execution_count": 222,
      "outputs": [
        {
          "output_type": "stream",
          "text": [
            "previous total events: 25\n",
            "new total events: 8\n",
            "68.0 percent events ignored\n",
            "previous total events: 14\n",
            "new total events: 7\n",
            "50.0 percent events ignored\n",
            "total 8 on events detected and 7 off events detected\n"
          ],
          "name": "stdout"
        }
      ]
    },
    {
      "cell_type": "code",
      "metadata": {
        "id": "Sk4d4m_iahI7",
        "colab_type": "code",
        "colab": {}
      },
      "source": [
        ""
      ],
      "execution_count": 0,
      "outputs": []
    },
    {
      "cell_type": "code",
      "metadata": {
        "id": "t9FA_o88g3t-",
        "colab_type": "code",
        "colab": {
          "base_uri": "https://localhost:8080/",
          "height": 514
        },
        "outputId": "26ee545d-8cf8-491d-bd0d-e96025a9485a"
      },
      "source": [
        "# display(filtered_events.head())"
      ],
      "execution_count": 224,
      "outputs": [
        {
          "output_type": "display_data",
          "data": {
            "text/html": [
              "<div>\n",
              "<style scoped>\n",
              "    .dataframe tbody tr th:only-of-type {\n",
              "        vertical-align: middle;\n",
              "    }\n",
              "\n",
              "    .dataframe tbody tr th {\n",
              "        vertical-align: top;\n",
              "    }\n",
              "\n",
              "    .dataframe thead th {\n",
              "        text-align: right;\n",
              "    }\n",
              "</style>\n",
              "<table border=\"1\" class=\"dataframe\">\n",
              "  <thead>\n",
              "    <tr style=\"text-align: right;\">\n",
              "      <th></th>\n",
              "      <th>event_name</th>\n",
              "    </tr>\n",
              "  </thead>\n",
              "  <tbody>\n",
              "    <tr>\n",
              "      <th>2019-11-23 06:39:28.400</th>\n",
              "      <td>rising</td>\n",
              "    </tr>\n",
              "    <tr>\n",
              "      <th>2019-11-23 06:39:34.800</th>\n",
              "      <td>falling</td>\n",
              "    </tr>\n",
              "    <tr>\n",
              "      <th>2019-11-23 06:39:35.600</th>\n",
              "      <td>rising</td>\n",
              "    </tr>\n",
              "    <tr>\n",
              "      <th>2019-11-23 06:40:16.600</th>\n",
              "      <td>falling</td>\n",
              "    </tr>\n",
              "    <tr>\n",
              "      <th>2019-11-23 06:42:57.000</th>\n",
              "      <td>rising</td>\n",
              "    </tr>\n",
              "    <tr>\n",
              "      <th>2019-11-23 06:43:31.000</th>\n",
              "      <td>falling</td>\n",
              "    </tr>\n",
              "    <tr>\n",
              "      <th>2019-11-23 06:49:44.200</th>\n",
              "      <td>rising</td>\n",
              "    </tr>\n",
              "    <tr>\n",
              "      <th>2019-11-23 06:50:03.800</th>\n",
              "      <td>falling</td>\n",
              "    </tr>\n",
              "    <tr>\n",
              "      <th>2019-11-23 06:50:04.800</th>\n",
              "      <td>rising</td>\n",
              "    </tr>\n",
              "    <tr>\n",
              "      <th>2019-11-23 06:50:19.200</th>\n",
              "      <td>falling</td>\n",
              "    </tr>\n",
              "    <tr>\n",
              "      <th>2019-11-23 06:50:20.400</th>\n",
              "      <td>rising</td>\n",
              "    </tr>\n",
              "    <tr>\n",
              "      <th>2019-11-23 06:51:09.400</th>\n",
              "      <td>falling</td>\n",
              "    </tr>\n",
              "    <tr>\n",
              "      <th>2019-11-23 06:53:11.200</th>\n",
              "      <td>rising</td>\n",
              "    </tr>\n",
              "    <tr>\n",
              "      <th>2019-11-23 06:53:34.600</th>\n",
              "      <td>falling</td>\n",
              "    </tr>\n",
              "    <tr>\n",
              "      <th>2019-11-23 07:24:32.200</th>\n",
              "      <td>rising</td>\n",
              "    </tr>\n",
              "  </tbody>\n",
              "</table>\n",
              "</div>"
            ],
            "text/plain": [
              "                        event_name\n",
              "2019-11-23 06:39:28.400     rising\n",
              "2019-11-23 06:39:34.800    falling\n",
              "2019-11-23 06:39:35.600     rising\n",
              "2019-11-23 06:40:16.600    falling\n",
              "2019-11-23 06:42:57.000     rising\n",
              "2019-11-23 06:43:31.000    falling\n",
              "2019-11-23 06:49:44.200     rising\n",
              "2019-11-23 06:50:03.800    falling\n",
              "2019-11-23 06:50:04.800     rising\n",
              "2019-11-23 06:50:19.200    falling\n",
              "2019-11-23 06:50:20.400     rising\n",
              "2019-11-23 06:51:09.400    falling\n",
              "2019-11-23 06:53:11.200     rising\n",
              "2019-11-23 06:53:34.600    falling\n",
              "2019-11-23 07:24:32.200     rising"
            ]
          },
          "metadata": {
            "tags": []
          }
        }
      ]
    },
    {
      "cell_type": "code",
      "metadata": {
        "id": "L40jjwolcVKL",
        "colab_type": "code",
        "colab": {}
      },
      "source": [
        ""
      ],
      "execution_count": 0,
      "outputs": []
    },
    {
      "cell_type": "code",
      "metadata": {
        "id": "Wrh3PF-CflTs",
        "colab_type": "code",
        "colab": {}
      },
      "source": [
        ""
      ],
      "execution_count": 0,
      "outputs": []
    },
    {
      "cell_type": "code",
      "metadata": {
        "id": "RoEZWRYk4UCJ",
        "colab_type": "code",
        "colab": {}
      },
      "source": [
        ""
      ],
      "execution_count": 0,
      "outputs": []
    },
    {
      "cell_type": "code",
      "metadata": {
        "id": "zkT0_9Vq4AG7",
        "colab_type": "code",
        "colab": {}
      },
      "source": [
        ""
      ],
      "execution_count": 0,
      "outputs": []
    },
    {
      "cell_type": "code",
      "metadata": {
        "id": "QRQYYDo7NkFl",
        "colab_type": "code",
        "colab": {}
      },
      "source": [
        "events_db.purge()\n",
        "appliance_db.purge()"
      ],
      "execution_count": 0,
      "outputs": []
    },
    {
      "cell_type": "code",
      "metadata": {
        "id": "kYeXSvxCvNop",
        "colab_type": "code",
        "colab": {}
      },
      "source": [
        "# db init\n",
        "# events_db.all()"
      ],
      "execution_count": 0,
      "outputs": []
    },
    {
      "cell_type": "code",
      "metadata": {
        "id": "bmJu0gcL2i4A",
        "colab_type": "code",
        "colab": {}
      },
      "source": [
        ""
      ],
      "execution_count": 0,
      "outputs": []
    },
    {
      "cell_type": "code",
      "metadata": {
        "id": "F_tUG8dXfc3V",
        "colab_type": "code",
        "outputId": "b0986be1-09f2-4481-d403-8db5443222e1",
        "colab": {
          "base_uri": "https://localhost:8080/",
          "height": 1000
        }
      },
      "source": [
        ""
      ],
      "execution_count": 234,
      "outputs": [
        {
          "output_type": "stream",
          "text": [
            "what to do next?(next-1,)1\n",
            "2019-11-23 06:42:57\n",
            "event_name rising\n",
            "https://devdashboard.avrio.energy/d/kjnasdus/anymeter?orgId=1&var-Meter_ID=m190601057&from=1574487777000&to=1574494977000\n"
          ],
          "name": "stdout"
        },
        {
          "output_type": "display_data",
          "data": {
            "image/png": "[encoded data removed]",
            "text/plain": [
              "<Figure size 864x576 with 1 Axes>"
            ]
          },
          "metadata": {
            "tags": []
          }
        },
        {
          "output_type": "error",
          "ename": "KeyboardInterrupt",
          "evalue": "ignored",
          "traceback": [
            "\u001b[0;31m---------------------------------------------------------------------------\u001b[0m",
            "\u001b[0;31mKeyboardInterrupt\u001b[0m                         Traceback (most recent call last)",
            "\u001b[0;32m/usr/local/lib/python3.6/dist-packages/ipykernel/kernelbase.py\u001b[0m in \u001b[0;36m_input_request\u001b[0;34m(self, prompt, ident, parent, password)\u001b[0m\n\u001b[1;32m    729\u001b[0m             \u001b[0;32mtry\u001b[0m\u001b[0;34m:\u001b[0m\u001b[0;34m\u001b[0m\u001b[0;34m\u001b[0m\u001b[0m\n\u001b[0;32m--> 730\u001b[0;31m                 \u001b[0mident\u001b[0m\u001b[0;34m,\u001b[0m \u001b[0mreply\u001b[0m \u001b[0;34m=\u001b[0m \u001b[0mself\u001b[0m\u001b[0;34m.\u001b[0m\u001b[0msession\u001b[0m\u001b[0;34m.\u001b[0m\u001b[0mrecv\u001b[0m\u001b[0;34m(\u001b[0m\u001b[0mself\u001b[0m\u001b[0;34m.\u001b[0m\u001b[0mstdin_socket\u001b[0m\u001b[0;34m,\u001b[0m \u001b[0;36m0\u001b[0m\u001b[0;34m)\u001b[0m\u001b[0;34m\u001b[0m\u001b[0;34m\u001b[0m\u001b[0m\n\u001b[0m\u001b[1;32m    731\u001b[0m             \u001b[0;32mexcept\u001b[0m \u001b[0mException\u001b[0m\u001b[0;34m:\u001b[0m\u001b[0;34m\u001b[0m\u001b[0;34m\u001b[0m\u001b[0m\n",
            "\u001b[0;32m/usr/local/lib/python3.6/dist-packages/jupyter_client/session.py\u001b[0m in \u001b[0;36mrecv\u001b[0;34m(self, socket, mode, content, copy)\u001b[0m\n\u001b[1;32m    802\u001b[0m         \u001b[0;32mtry\u001b[0m\u001b[0;34m:\u001b[0m\u001b[0;34m\u001b[0m\u001b[0;34m\u001b[0m\u001b[0m\n\u001b[0;32m--> 803\u001b[0;31m             \u001b[0mmsg_list\u001b[0m \u001b[0;34m=\u001b[0m \u001b[0msocket\u001b[0m\u001b[0;34m.\u001b[0m\u001b[0mrecv_multipart\u001b[0m\u001b[0;34m(\u001b[0m\u001b[0mmode\u001b[0m\u001b[0;34m,\u001b[0m \u001b[0mcopy\u001b[0m\u001b[0;34m=\u001b[0m\u001b[0mcopy\u001b[0m\u001b[0;34m)\u001b[0m\u001b[0;34m\u001b[0m\u001b[0;34m\u001b[0m\u001b[0m\n\u001b[0m\u001b[1;32m    804\u001b[0m         \u001b[0;32mexcept\u001b[0m \u001b[0mzmq\u001b[0m\u001b[0;34m.\u001b[0m\u001b[0mZMQError\u001b[0m \u001b[0;32mas\u001b[0m \u001b[0me\u001b[0m\u001b[0;34m:\u001b[0m\u001b[0;34m\u001b[0m\u001b[0;34m\u001b[0m\u001b[0m\n",
            "\u001b[0;32m/usr/local/lib/python3.6/dist-packages/zmq/sugar/socket.py\u001b[0m in \u001b[0;36mrecv_multipart\u001b[0;34m(self, flags, copy, track)\u001b[0m\n\u001b[1;32m    465\u001b[0m         \"\"\"\n\u001b[0;32m--> 466\u001b[0;31m         \u001b[0mparts\u001b[0m \u001b[0;34m=\u001b[0m \u001b[0;34m[\u001b[0m\u001b[0mself\u001b[0m\u001b[0;34m.\u001b[0m\u001b[0mrecv\u001b[0m\u001b[0;34m(\u001b[0m\u001b[0mflags\u001b[0m\u001b[0;34m,\u001b[0m \u001b[0mcopy\u001b[0m\u001b[0;34m=\u001b[0m\u001b[0mcopy\u001b[0m\u001b[0;34m,\u001b[0m \u001b[0mtrack\u001b[0m\u001b[0;34m=\u001b[0m\u001b[0mtrack\u001b[0m\u001b[0;34m)\u001b[0m\u001b[0;34m]\u001b[0m\u001b[0;34m\u001b[0m\u001b[0;34m\u001b[0m\u001b[0m\n\u001b[0m\u001b[1;32m    467\u001b[0m         \u001b[0;31m# have first part already, only loop while more to receive\u001b[0m\u001b[0;34m\u001b[0m\u001b[0;34m\u001b[0m\u001b[0;34m\u001b[0m\u001b[0m\n",
            "\u001b[0;32mzmq/backend/cython/socket.pyx\u001b[0m in \u001b[0;36mzmq.backend.cython.socket.Socket.recv\u001b[0;34m()\u001b[0m\n",
            "\u001b[0;32mzmq/backend/cython/socket.pyx\u001b[0m in \u001b[0;36mzmq.backend.cython.socket.Socket.recv\u001b[0;34m()\u001b[0m\n",
            "\u001b[0;32mzmq/backend/cython/socket.pyx\u001b[0m in \u001b[0;36mzmq.backend.cython.socket._recv_copy\u001b[0;34m()\u001b[0m\n",
            "\u001b[0;32m/usr/local/lib/python3.6/dist-packages/zmq/backend/cython/checkrc.pxd\u001b[0m in \u001b[0;36mzmq.backend.cython.checkrc._check_rc\u001b[0;34m()\u001b[0m\n",
            "\u001b[0;31mKeyboardInterrupt\u001b[0m: ",
            "\nDuring handling of the above exception, another exception occurred:\n",
            "\u001b[0;31mKeyboardInterrupt\u001b[0m                         Traceback (most recent call last)",
            "\u001b[0;32m<ipython-input-234-defcd9de05db>\u001b[0m in \u001b[0;36m<module>\u001b[0;34m()\u001b[0m\n\u001b[1;32m     22\u001b[0m     \u001b[0;31m# print(signature)\u001b[0m\u001b[0;34m\u001b[0m\u001b[0;34m\u001b[0m\u001b[0;34m\u001b[0m\u001b[0m\n\u001b[1;32m     23\u001b[0m     \u001b[0;31m# print(signature.to_dict())\u001b[0m\u001b[0;34m\u001b[0m\u001b[0;34m\u001b[0m\u001b[0;34m\u001b[0m\u001b[0m\n\u001b[0;32m---> 24\u001b[0;31m     \u001b[0mevent_type\u001b[0m \u001b[0;34m=\u001b[0m \u001b[0minput\u001b[0m\u001b[0;34m(\u001b[0m\u001b[0;34m'event type ? (noise/n, up/u, down/d)'\u001b[0m\u001b[0;34m)\u001b[0m\u001b[0;34m\u001b[0m\u001b[0;34m\u001b[0m\u001b[0m\n\u001b[0m\u001b[1;32m     25\u001b[0m     \u001b[0;32mif\u001b[0m \u001b[0mevent_type\u001b[0m \u001b[0;34m==\u001b[0m \u001b[0;34m'noise'\u001b[0m \u001b[0;32mor\u001b[0m \u001b[0mevent_type\u001b[0m \u001b[0;34m==\u001b[0m \u001b[0;34m'n'\u001b[0m\u001b[0;34m:\u001b[0m\u001b[0;34m\u001b[0m\u001b[0;34m\u001b[0m\u001b[0m\n\u001b[1;32m     26\u001b[0m         \u001b[0md\u001b[0m \u001b[0;34m=\u001b[0m \u001b[0mget_new_event\u001b[0m\u001b[0;34m(\u001b[0m\u001b[0mtime\u001b[0m \u001b[0;34m=\u001b[0m \u001b[0mstr\u001b[0m\u001b[0;34m(\u001b[0m\u001b[0mevent\u001b[0m\u001b[0;34m)\u001b[0m\u001b[0;34m,\u001b[0m \u001b[0mevent_type\u001b[0m \u001b[0;34m=\u001b[0m \u001b[0;34m\"noise\"\u001b[0m\u001b[0;34m,\u001b[0m \u001b[0mtransient_duration\u001b[0m \u001b[0;34m=\u001b[0m \u001b[0;32mNone\u001b[0m\u001b[0;34m,\u001b[0m \u001b[0msignature\u001b[0m \u001b[0;34m=\u001b[0m \u001b[0msignature\u001b[0m\u001b[0;34m.\u001b[0m\u001b[0mto_dict\u001b[0m\u001b[0;34m(\u001b[0m\u001b[0;34m)\u001b[0m\u001b[0;34m,\u001b[0m \u001b[0mmulti_event\u001b[0m \u001b[0;34m=\u001b[0m \u001b[0;32mFalse\u001b[0m\u001b[0;34m,\u001b[0m \u001b[0mmulti_event_location\u001b[0m \u001b[0;34m=\u001b[0m \u001b[0;34m[\u001b[0m\u001b[0;34m]\u001b[0m\u001b[0;34m)\u001b[0m\u001b[0;34m\u001b[0m\u001b[0;34m\u001b[0m\u001b[0m\n",
            "\u001b[0;32m/usr/local/lib/python3.6/dist-packages/ipykernel/kernelbase.py\u001b[0m in \u001b[0;36mraw_input\u001b[0;34m(self, prompt)\u001b[0m\n\u001b[1;32m    703\u001b[0m             \u001b[0mself\u001b[0m\u001b[0;34m.\u001b[0m\u001b[0m_parent_ident\u001b[0m\u001b[0;34m,\u001b[0m\u001b[0;34m\u001b[0m\u001b[0;34m\u001b[0m\u001b[0m\n\u001b[1;32m    704\u001b[0m             \u001b[0mself\u001b[0m\u001b[0;34m.\u001b[0m\u001b[0m_parent_header\u001b[0m\u001b[0;34m,\u001b[0m\u001b[0;34m\u001b[0m\u001b[0;34m\u001b[0m\u001b[0m\n\u001b[0;32m--> 705\u001b[0;31m             \u001b[0mpassword\u001b[0m\u001b[0;34m=\u001b[0m\u001b[0;32mFalse\u001b[0m\u001b[0;34m,\u001b[0m\u001b[0;34m\u001b[0m\u001b[0;34m\u001b[0m\u001b[0m\n\u001b[0m\u001b[1;32m    706\u001b[0m         )\n\u001b[1;32m    707\u001b[0m \u001b[0;34m\u001b[0m\u001b[0m\n",
            "\u001b[0;32m/usr/local/lib/python3.6/dist-packages/ipykernel/kernelbase.py\u001b[0m in \u001b[0;36m_input_request\u001b[0;34m(self, prompt, ident, parent, password)\u001b[0m\n\u001b[1;32m    733\u001b[0m             \u001b[0;32mexcept\u001b[0m \u001b[0mKeyboardInterrupt\u001b[0m\u001b[0;34m:\u001b[0m\u001b[0;34m\u001b[0m\u001b[0;34m\u001b[0m\u001b[0m\n\u001b[1;32m    734\u001b[0m                 \u001b[0;31m# re-raise KeyboardInterrupt, to truncate traceback\u001b[0m\u001b[0;34m\u001b[0m\u001b[0;34m\u001b[0m\u001b[0;34m\u001b[0m\u001b[0m\n\u001b[0;32m--> 735\u001b[0;31m                 \u001b[0;32mraise\u001b[0m \u001b[0mKeyboardInterrupt\u001b[0m\u001b[0;34m\u001b[0m\u001b[0;34m\u001b[0m\u001b[0m\n\u001b[0m\u001b[1;32m    736\u001b[0m             \u001b[0;32melse\u001b[0m\u001b[0;34m:\u001b[0m\u001b[0;34m\u001b[0m\u001b[0;34m\u001b[0m\u001b[0m\n\u001b[1;32m    737\u001b[0m                 \u001b[0;32mbreak\u001b[0m\u001b[0;34m\u001b[0m\u001b[0;34m\u001b[0m\u001b[0m\n",
            "\u001b[0;31mKeyboardInterrupt\u001b[0m: "
          ]
        }
      ]
    },
    {
      "cell_type": "code",
      "metadata": {
        "id": "vfDc4WXspRJz",
        "colab_type": "code",
        "colab": {}
      },
      "source": [
        ""
      ],
      "execution_count": 0,
      "outputs": []
    }
  ]
}